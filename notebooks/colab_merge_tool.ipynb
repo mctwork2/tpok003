{
  "cells": [
    {
      "cell_type": "code",
      "metadata": {
        "id": "launch",
        "cellView": "form"
      },
      "source": [
        "# @title ▶️ Запустить приложение (надёжный запуск для Colab)\n",
        "import os, sys, subprocess\n",
        "def _ensure_deps():\n",
        "    subprocess.check_call([sys.executable, '-m', 'pip', 'install', '-U', 'pandas==2.2.2', 'openpyxl>=3.1,<4', 'gradio>=4.0'])\n",
        "def _cd_to_project():\n",
        "    if os.path.isdir('/content/tpok003'):\n",
        "        os.chdir('/content/tpok003')\n",
        "        return '/content/tpok003'\n",
        "    return os.getcwd()\n",
        "def _install_from_project():\n",
        "    project_dir = '/content/tpok003'\n",
        "    target = project_dir if os.path.exists(os.path.join(project_dir, 'pyproject.toml')) else os.getcwd()\n",
        "    subprocess.check_call([sys.executable, '-m', 'pip', 'install', '-e', target])\n",
        "    return target\n",
        "_ensure_deps()\n",
        "proj_dir = _cd_to_project()\n",
        "installed_from = _install_from_project()\n",
        "print('Working dir:', os.getcwd())\n",
        "print('yourpkg installed from:', installed_from)\n",
        "from yourpkg.colab_app import launch_app\n",
        "launch_app()\n"
      ]
    }
  ],
  "metadata": {
    "kernelspec": {
      "display_name": "Python 3",
      "language": "python",
      "name": "python3"
    }
  },
  "nbformat": 4,
  "nbformat_minor": 5
}