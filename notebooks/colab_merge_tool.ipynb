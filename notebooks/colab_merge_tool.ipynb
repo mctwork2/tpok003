{
  "cells": [
    {
      "cell_type": "code",
      "metadata": {
        "id": "install"
      },
      "source": [
        "from getpass import getpass\n",
        "import subprocess, sys\n",
        "ORG = 'mctwork2'  # <-- replace after pushing\n",
        "REPO = 'tpok003'  # <-- replace after pushing\n",
        "REF = 'main'  # e.g. 'main' or a tag like 'v0.1.0'\n",
        "TOKEN = getpass('GitHub token (read-only): ')\n",
        "\n",
        "subprocess.check_call([sys.executable, '-m', 'pip', 'install', '-U',\n",
        "                      'pandas==2.2.2', 'openpyxl>=3.1,<4'])\n",
        "url = f'git+https://{TOKEN}@github.com/{ORG}/{REPO}.git@{REF}'\n",
        "subprocess.check_call([sys.executable, '-m', 'pip', 'install', url])\n"
      ],
      "execution_count": null,
      "outputs": []
    },
    {
      "cell_type": "code",
      "metadata": {
        "id": "ui"
      },
      "source": [
        "# @title 🖥️ UI: Выберите 2 файла и дату — код выполнит nbutest.py без изменений\n",
        "!pip -q install gradio>=4.0 openpyxl pandas\n",
        "import os, json, runpy, shutil\n",
        "import gradio as gr\n",
        "\n",
        "# Убедимся, что status2_map.json доступен в рабочей директории\n",
        "EXAMPLES_DIR = '/content/examples'\n",
        "os.makedirs(EXAMPLES_DIR, exist_ok=True)\n",
        "if os.path.exists('/content/colab-merge-project/examples/status2_map.json'):\n",
        "    shutil.copy('/content/colab-merge-project/examples/status2_map.json', '/content/status2_map.json')\n",
        "elif os.path.exists('examples/status2_map.json'):\n",
        "    shutil.copy('examples/status2_map.json', '/content/status2_map.json')\n",
        "\n",
        "def run_nbutest(file1, file2, date_str):\n",
        "    if file1 is None or file2 is None:\n",
        "        raise gr.Error('Загрузите оба файла (CSV/XLSX)')\n",
        "    if not date_str:\n",
        "        raise gr.Error('Введите дату в формате ДД.ММ.ГГГГ (например, 21.08.2025)')\n",
        "    # Пишем временный app_settings.json, как ожидает nbutest.py\n",
        "    settings = {\n",
        "        'files': [file1.name, file2.name],\n",
        "        'поточнадата': date_str\n",
        "    }\n",
        "    with open('/content/app_settings.json', 'w', encoding='utf-8') as f:\n",
        "        json.dump(settings, f, ensure_ascii=False, indent=2)\n",
        "    # Запускаем nbutest.py (используем runpy, чтобы выполнить как скрипт)\n",
        "    try:\n",
        "        runpy.run_path('/content/colab-merge-project/scripts/nbutest.py', run_name='__main__')\n",
        "    except SystemExit:\n",
        "        # Некоторые скрипты могут вызвать sys.exit — игнорируем, если файл создан\n",
        "        pass\n",
        "    # По коду nbutest.py выходной файл называется result_ДД.ММ.ГГГГ.xlsx (или похожий)\n",
        "    # Соберём кандидат по дате, а также найдём последний .xlsx созданный скриптом\n",
        "    candidates = [\n",
        "        f'/content/result_{date_str}.xlsx',\n",
        "        f'result_{date_str}.xlsx'\n",
        "    ]\n",
        "    for c in candidates:\n",
        "        if os.path.exists(c):\n",
        "            return c\n",
        "    # Фолбэк: ищем свежий .xlsx в /content\n",
        "    latest = None\n",
        "    for fname in os.listdir('/content'):\n",
        "        if fname.lower().endswith('.xlsx') and fname.startswith('result_'):\n",
        "            p = os.path.join('/content', fname)\n",
        "            if latest is None or os.path.getmtime(p) > os.path.getmtime(latest):\n",
        "                latest = p\n",
        "    if latest:\n",
        "        return latest\n",
        "    raise gr.Error('Выходной файл не найден. Проверьте логи выполнения.')\n",
        "\n",
        "with gr.Blocks() as demo:\n",
        "    gr.Markdown('''# 📘 Обработка по полной логике nbutest.py\n",
        "Выберите **два входных файла** и введите **дату** (ДД.ММ.ГГГГ). Скрипт использует вашу же логику из `scripts/nbutest.py` — мы лишь подставляем выбранные файлы и дату во временный `app_settings.json` и запускаем его.\n",
        "''')\n",
        "    with gr.Row():\n",
        "        f1 = gr.File(label='Файл 1 (Excel/CSV)')\n",
        "        f2 = gr.File(label='Файл 2 (Excel/CSV)')\n",
        "    date_input = gr.Textbox(label='Дата (ДД.ММ.ГГГГ)', placeholder='например, 21.08.2025')\n",
        "    go = gr.Button('Запустить обработку')\n",
        "    out_file = gr.File(label='Результат (XLSX)')\n",
        "    go.click(run_nbutest, inputs=[f1, f2, date_input], outputs=out_file)\n",
        "\n",
        "demo.launch()\n"
      ],
      "execution_count": null,
      "outputs": []
    }
  ],
  "metadata": {
    "colab": {
      "provenance": []
    },
    "kernelspec": {
      "display_name": "Python 3",
      "language": "python",
      "name": "python3"
    },
    "language_info": {
      "name": "python"
    }
  },
  "nbformat": 4,
  "nbformat_minor": 5
}