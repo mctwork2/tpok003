{
  "cells": [
    {
      "cell_type": "code",
      "metadata": {
        "id": "launch",
        "cellView": "form"
      },
      "source": [
        "# @title ▶️ Запустить приложение (проверка пути + надёжный запуск)\n",
        "import os, sys, subprocess\n",
        "\n",
        "PROJECT_DIR = '/content/tpok003'\n",
        "PYPROJECT = os.path.join(PROJECT_DIR, 'pyproject.toml')\n",
        "\n",
        "def _fail(msg):\n",
        "    print('\\n❌ ' + msg)\n",
        "    print('\\nСделайте так:')\n",
        "    print('1) Загрузите tpok003.zip в Colab Files')\n",
        "    print('2) Выполните:  !unzip -o /content/tpok003.zip -d /content')\n",
        "    print('3) Откройте заново этот ноутбук и нажмите кнопку.')\n",
        "    raise SystemExit(1)\n",
        "\n",
        "# 1) Проверим, что проект распакован именно в /content/tpok003\n",
        "if not os.path.isdir(PROJECT_DIR):\n",
        "    _fail('Папка /content/tpok003 не найдена.')\n",
        "if not os.path.exists(PYPROJECT):\n",
        "    _fail('Не найден pyproject.toml в /content/tpok003 (архив распакован не туда).')\n",
        "\n",
        "def _ensure_deps():\n",
        "    subprocess.check_call([sys.executable, '-m', 'pip', 'install', '-U',\n",
        "                           'pandas==2.2.2', 'openpyxl>=3.1,<4', 'gradio>=4.0'])\n",
        "\n",
        "def _install_project():\n",
        "    os.chdir(PROJECT_DIR)\n",
        "    print('Рабочая директория:', os.getcwd())\n",
        "    subprocess.check_call([sys.executable, '-m', 'pip', 'install', '-e', PROJECT_DIR])\n",
        "    print('✅ yourpkg установлен из', PROJECT_DIR)\n",
        "\n",
        "_ensure_deps()\n",
        "_install_project()\n",
        "\n",
        "from yourpkg.colab_app import launch_app\n",
        "launch_app()\n"
      ],
      "execution_count": null,
      "outputs": []
    }
  ],
  "metadata": {
    "kernelspec": {
      "display_name": "Python 3",
      "language": "python",
      "name": "python3"
    }
  },
  "nbformat": 4,
  "nbformat_minor": 5
}