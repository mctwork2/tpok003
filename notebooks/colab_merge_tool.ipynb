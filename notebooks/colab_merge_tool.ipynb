{
  "cells": [
    {
      "cell_type": "code",
      "metadata": {
        "id": "launch",
        "cellView": "form"
      },
      "source": [
        "# @title ▶️ Запустить приложение (авто-установка и скрытый UI)\n",
        "import os, sys, subprocess\n",
        "\n",
        "def _ensure_deps():\n",
        "    subprocess.check_call([sys.executable, '-m', 'pip', 'install', '-U',\n",
        "                           'pandas==2.2.2', 'openpyxl>=3.1,<4', 'gradio>=4.0'])\n",
        "def _auto_install_pkg():\n",
        "    # Пытаемся поставить пакет из локальных путей\n",
        "    candidates = ['.', f'/content/{'tpok003_full'}', '/content/repo']\n",
        "    for p in candidates:\n",
        "        if os.path.exists(os.path.join(p, 'pyproject.toml')):\n",
        "            try:\n",
        "                subprocess.check_call([sys.executable, '-m', 'pip', 'install', '-e', p])\n",
        "                return p\n",
        "            except Exception as e:\n",
        "                print('Install failed for', p, '->', e)\n",
        "    return None\n",
        "\n",
        "_ensure_deps()\n",
        "src = _auto_install_pkg()\n",
        "print('yourpkg installed from:', src)\n",
        "try:\n",
        "    from yourpkg.colab_app import launch_app\n",
        "    launch_app()\n",
        "except ModuleNotFoundError:\n",
        "    import sys\n",
        "    for p in ['.', f'/content/{'tpok003_full'}', '/content/repo']:\n",
        "        if p not in sys.path:\n",
        "            sys.path.insert(0, p)\n",
        "    from yourpkg.colab_app import launch_app\n",
        "    launch_app()\n"
      ]
    }
  ],
  "metadata": {
    "kernelspec": {
      "display_name": "Python 3",
      "language": "python",
      "name": "python3"
    },
    "language_info": {
      "name": "python"
    }
  },
  "nbformat": 4,
  "nbformat_minor": 5
}